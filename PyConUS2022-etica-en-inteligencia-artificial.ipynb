{
 "cells": [
  {
   "cell_type": "code",
   "execution_count": null,
   "id": "112b4351",
   "metadata": {
    "scrolled": true,
    "slideshow": {
     "slide_type": "slide"
    }
   },
   "outputs": [],
   "source": [
    "!pip install -r requirements.txt"
   ]
  },
  {
   "cell_type": "markdown",
   "id": "05bd56e6",
   "metadata": {
    "slideshow": {
     "slide_type": "slide"
    }
   },
   "source": [
    "<h1 align='center'>Ética en Inteligencia Artificial</h1>\n",
    "\n",
    "<h2 align='center'>Introducción a Fairlearn</h2>\n",
    "\n",
    "<h3 align='center'>Laura G. Funderburk</h3>\n",
    "\n",
    "<h3 align='center'>PyCon US 2022</h3>\n",
    "\n",
    "<h4 align='center'>Data Scientist, Seaspan Ship Management Ltd</h4> \n"
   ]
  },
  {
   "cell_type": "markdown",
   "id": "d642dcb4",
   "metadata": {
    "slideshow": {
     "slide_type": "slide"
    }
   },
   "source": [
    "<h2 align='center'>Motivación</h2>\n",
    "\n",
    "\n",
    "En los últimos años, hemos visto un aumento en el uso de la inteligencia artificial en nuestra vida cotidiana: desde algoritmos de aprendizaje automático que revisan los currículums para las ofertas de trabajo, hasta sistemas que recomiendan tratamiento a pacientes. "
   ]
  },
  {
   "cell_type": "markdown",
   "id": "5acb1d90",
   "metadata": {
    "slideshow": {
     "slide_type": "subslide"
    }
   },
   "source": [
    "<h2 align='center'>Motivación</h2>\n",
    "\n",
    "¿Cuál es nuestra responsabilidad como científicos de datos, ingenieros de datos, programadores y colectores de datos?\n",
    "\n",
    "¿Qué podemos hacer para identificar áreas de prejucio en nuestros modelos y minimizar daño?"
   ]
  },
  {
   "cell_type": "markdown",
   "id": "a428541c",
   "metadata": {
    "slideshow": {
     "slide_type": "subslide"
    }
   },
   "source": [
    "<h2 align='center'>Motivación</h2>\n",
    "\n",
    "\n",
    "En esta charla, vamos a motivar la importancia incorporar ética en la inteligencia artificial (IA), enfocados en un ejemplo en el sector de salud, y aprenderemos sobre una librería de Python: Fairlearn."
   ]
  },
  {
   "cell_type": "markdown",
   "id": "9de74585",
   "metadata": {
    "slideshow": {
     "slide_type": "slide"
    }
   },
   "source": [
    "<h2 align='center'>Plan para la charla</h2>\n",
    "\n",
    "1. Motivando la importancia de la ética en la inteligencia artificial (IA).\n",
    "2. Tipos de daños y el papel de la abstracción en la IA.\n",
    "3. Introducción a Fairlearn: precisión y equidad de un modelo.\n",
    "4. Evaluando un modelo con MetricFrame y Threshold Optimizer"
   ]
  },
  {
   "cell_type": "markdown",
   "id": "10a68bf4",
   "metadata": {
    "slideshow": {
     "slide_type": "slide"
    }
   },
   "source": [
    "<h2 align='center'>Motivación</h2>\n",
    "\n",
    "Considere la evaluación del riesgo de pacientes con ciertas condiciones médicas. Nuestro gol es escribir un programa de aprendizaje automático que ayude a los médicos a determinar qué pacientes requieren de mayor atención. \n",
    "\n"
   ]
  },
  {
   "cell_type": "markdown",
   "id": "01f2f501",
   "metadata": {
    "slideshow": {
     "slide_type": "slide"
    }
   },
   "source": [
    "<h2 align='center'>Sobre los datos</h2>\n",
    "\n",
    "*  [Datos clínicos publicados](https://archive.ics.uci.edu/ml/datasets/Diabetes+130-US+hospitals+for+years+1999-2008)  ([Strack et al., 2014](https://www.hindawi.com/journals/bmri/2014/781670/)).\n",
    "\n",
    "* Datos clínicos que contienen información sobre pacientes con diabetes que son readmitidos en 130 hospitales en Estados Unidos.\n",
    "\n",
    "* Cada punto representa la admisión hospitalaria para un paciente (1 - 14 días).\n",
    "\n",
    "* Los datos incluyen: demografía, diagnosis, medicamentos, número de visitas, y si la el paciente regresó en 30 días o menos a partir de la primer visita. \n",
    "\n"
   ]
  },
  {
   "cell_type": "markdown",
   "id": "d07df9f0",
   "metadata": {
    "slideshow": {
     "slide_type": "subslide"
    }
   },
   "source": [
    "<h2 align='center'>Tarea</h2>\n",
    "\n",
    "Desarrollo de un modelo de clasificación que determine qué pacientes deben ser tratados por medio del programa de cuidado para pacientes de alto riesgo."
   ]
  },
  {
   "cell_type": "markdown",
   "id": "fdde02b0",
   "metadata": {
    "slideshow": {
     "slide_type": "slide"
    }
   },
   "source": [
    "<h2 align='center'>Fuentes de inspiración del taller</h2>\n",
    "\n",
    "Literatura:\n",
    "\n",
    "Selbst, Andrew D. y Boyd, Danah y Friedler, Sorelle y Venkatasubramanian, Suresh y Vertesi, Janet, \"Equidad y abstracción en sistemas sociotécnicos\", (23 de agosto de 2018). Conferencia de ACM de 2019 sobre equidad, responsabilidad y transparencia (FAT *), 59-68, disponible en SSRN: https://ssrn.com/abstract=3265913,\n",
    "\n",
    "Tutorial de ciencia ficción de Fairlearn 2021:\n",
    "\n",
    "Tutorial de SciPy 2021: Equidad en los sistemas de IA: del contexto social a la práctica con Fairlearn por Manojit Nandi, Miroslav Dudík, Triveni Gandhi, Lisa Ibañez, Adrin Jalali, Michael Madaio, Hanna Wallach, Hilde Weerts tiene licencia CC BY 4.0._"
   ]
  },
  {
   "cell_type": "markdown",
   "id": "36cd69bd",
   "metadata": {
    "slideshow": {
     "slide_type": "slide"
    }
   },
   "source": [
    "<h2 align='center'>Por qué es importante la ética en la IA</h2>\n",
    "\n",
    "Los sistemas de IA pueden comportarse injustamente por una variedad de razones:\n",
    "\n",
    "Los sesgos sociales se reflejan en los datos de formación.\n",
    "\n",
    "| |\n",
    "|-|\n",
    "|<img src=\"./images/bias.jpeg\" width=\"400\"/>|\n"
   ]
  },
  {
   "cell_type": "markdown",
   "id": "c332e649",
   "metadata": {
    "slideshow": {
     "slide_type": "subslide"
    }
   },
   "source": [
    "<h2 align='center'>Por qué es importante la ética en la IA</h2>\n",
    "\n",
    "Los sistemas de IA pueden comportarse injustamente por una variedad de razones:\n",
    "\n",
    "2. Los sesgos sociales se reflejan en las decisiones que se toman durante el desarrollo y despliegue de estos sistemas.\n",
    "\n",
    "| |\n",
    "|-|\n",
    "|<img src=\"./images/development.jpeg\" width=\"500\"/>|"
   ]
  },
  {
   "cell_type": "markdown",
   "id": "144abc9f",
   "metadata": {
    "slideshow": {
     "slide_type": "subslide"
    }
   },
   "source": [
    "<h2 align='center'>Por qué es importante la ética en la IA</h2>\n",
    "\n",
    "Los sistemas de IA pueden comportarse injustamente por una variedad de razones:\n",
    "\n",
    "3. Los sistemas de inteligencia artificial se comportan de manera injusta debido a características de los datos o características de los propios sistemas.\n",
    "\n",
    "$$\\Rightarrow \\text{No son mutuamente excluyentes y a menudo se exacerban entre sí.} \\Leftarrow$$ \n",
    "\n"
   ]
  },
  {
   "cell_type": "markdown",
   "id": "32062289",
   "metadata": {
    "slideshow": {
     "slide_type": "slide"
    }
   },
   "source": [
    "<h2 align='center'>¿Cómo podemos determinar si una IA se está comportando de manera injusta?</h2>\n",
    "\n",
    "* Mediante el estudio del impacto de la IA en las personas:\n",
    "\n",
    "    1. Daños\n",
    "    2. Ganancias\n",
    "\n",
    "* En ciencia de datos, podemos cuantificarlos mediante el número de falso positivo, o falso negativo. "
   ]
  },
  {
   "cell_type": "markdown",
   "id": "fc6f68d9",
   "metadata": {
    "slideshow": {
     "slide_type": "slide"
    }
   },
   "source": [
    "<h2 align='center'>Tipos de daños</h2>\n",
    "\n",
    "\n",
    "<b>Los daños en la asignación</b> pueden ocurrir cuando los sistemas de inteligencia artificial amplían o retienen oportunidades, recursos o información.\n",
    "\n",
    "Ejemplos de aplicaciones clave: contratación, admisiones escolares y préstamos.\n",
    "\n"
   ]
  },
  {
   "cell_type": "markdown",
   "id": "f0e7e49e",
   "metadata": {
    "slideshow": {
     "slide_type": "subslide"
    }
   },
   "source": [
    "<h2 align='center'>Tipos de daños</h2>\n",
    "\n",
    "<b>Los daños a la calidad del servicio</b> pueden ocurrir cuando un sistema no funciona tan bien para una persona como para otra, incluso si no se brindan o retienen oportunidades, recursos o información.\n",
    "\n",
    "Ejemplos de aplicaciones clave: precisión en el reconocimiento facial, búsqueda de documentos o recomendación de productos."
   ]
  },
  {
   "cell_type": "markdown",
   "id": "d944b9f7",
   "metadata": {
    "slideshow": {
     "slide_type": "slide"
    }
   },
   "source": [
    "<h2 align='center'>¿Cómo incurrimos en un daño?</h2>\n"
   ]
  },
  {
   "cell_type": "markdown",
   "id": "3bae8f20",
   "metadata": {
    "slideshow": {
     "slide_type": "subslide"
    }
   },
   "source": [
    "<h2 align='center'>Cómo trabajamos con la información: abstracción</h2>\n",
    "<br>\n",
    "<center>\n",
    "Abstracción en ciencias de la computación\n",
    "</center>\n",
    "\n",
    "<br>\n",
    "<center>\n",
    "Abstracción en matemáticas\n",
    "</center>\n",
    "    \n",
    "<br>\n",
    "<center>\n",
    "Abstracción en el aprendizaje automático\n",
    "</center>"
   ]
  },
  {
   "cell_type": "markdown",
   "id": "d974f913",
   "metadata": {
    "slideshow": {
     "slide_type": "subslide"
    }
   },
   "source": [
    "<h2 align='center'>¿Cómo falla la abstracción en el aprendizaje automático?</h2>\n",
    "\n",
    "\n",
    "⇒ La abstracción conduce a la eliminación de atributos o propiedades que dependen de un contexto social. Medir consequencias al remover o ignorar una propiedad.\n",
    "\n",
    "| |\n",
    "|-|\n",
    "|<img src=\"./images/noface.png\" width=\"400\"/>|\n",
    "\n",
    "\n"
   ]
  },
  {
   "cell_type": "markdown",
   "id": "a5c4d23c",
   "metadata": {
    "slideshow": {
     "slide_type": "subslide"
    }
   },
   "source": [
    "<h2 align='center'>¿Cómo falla la abstracción en el aprendizaje automático?</h2>\n",
    "\n",
    "⇒ ¿Cuál es la compensación que hacemos al desechar una propiedad y somos conscientes de las consecuencias de esa compensación?\n",
    "\n",
    "| |\n",
    "|-|\n",
    "|<img src=\"./images/tradeoff.jpeg\" width=\"500\"/>|"
   ]
  },
  {
   "cell_type": "markdown",
   "id": "e74fc25f",
   "metadata": {
    "slideshow": {
     "slide_type": "slide"
    }
   },
   "source": [
    "<h2 align='center'>Introducción a Fairlearn:<br> una biblioteca de Python centrada en disminuir la injusticia en los modelos de aprendizaje automático </h2>"
   ]
  },
  {
   "cell_type": "markdown",
   "id": "c39e846f",
   "metadata": {
    "slideshow": {
     "slide_type": "slide"
    }
   },
   "source": [
    "<h2 align='center'>Sobre Fairlearn</h2>\n",
    "\n",
    "\n",
    "Fairlearn es un proyecto de código abierto impulsado por la comunidad para ayudar a los científicos de datos a mejorar la equidad de los sistemas de IA. Incluye:\n",
    "\n",
    "Una biblioteca de Python para la evaluación y mejora de la equidad (métricas de equidad, algoritmos de mitigación, trazado, etc.)\n",
    "\n",
    "Recursos educativos que cubren procesos organizativos y técnicos para la mitigación de injusticias (guía de usuario, estudios de casos, cuadernos de Jupyter, etc.)\n",
    "\n",
    "El proyecto se inició en 2018 en Microsoft Research. En 2021 adoptó una estructura de gobernanza neutral y desde entonces está completamente impulsada por la comunidad.\n",
    "\n",
    "Leer más: https://fairlearn.org"
   ]
  },
  {
   "cell_type": "code",
   "execution_count": 13,
   "id": "ed399818",
   "metadata": {
    "slideshow": {
     "slide_type": "slide"
    }
   },
   "outputs": [
    {
     "name": "stdout",
     "output_type": "stream",
     "text": [
      "Loading data\n",
      "<class 'pandas.core.frame.DataFrame'>\n",
      "RangeIndex: 101766 entries, 0 to 101765\n",
      "Data columns (total 25 columns):\n",
      " #   Column                    Non-Null Count   Dtype \n",
      "---  ------                    --------------   ----- \n",
      " 0   race                      101766 non-null  object\n",
      " 1   gender                    101766 non-null  object\n",
      " 2   age                       101766 non-null  object\n",
      " 3   discharge_disposition_id  101766 non-null  object\n",
      " 4   admission_source_id       101766 non-null  object\n",
      " 5   time_in_hospital          101766 non-null  int64 \n",
      " 6   medical_specialty         101766 non-null  object\n",
      " 7   num_lab_procedures        101766 non-null  int64 \n",
      " 8   num_procedures            101766 non-null  int64 \n",
      " 9   num_medications           101766 non-null  int64 \n",
      " 10  primary_diagnosis         101766 non-null  object\n",
      " 11  number_diagnoses          101766 non-null  int64 \n",
      " 12  max_glu_serum             101766 non-null  object\n",
      " 13  A1Cresult                 101766 non-null  object\n",
      " 14  insulin                   101766 non-null  object\n",
      " 15  change                    101766 non-null  object\n",
      " 16  diabetesMed               101766 non-null  object\n",
      " 17  medicare                  101766 non-null  bool  \n",
      " 18  medicaid                  101766 non-null  bool  \n",
      " 19  had_emergency             101766 non-null  bool  \n",
      " 20  had_inpatient_days        101766 non-null  bool  \n",
      " 21  had_outpatient_days       101766 non-null  bool  \n",
      " 22  readmitted                101766 non-null  object\n",
      " 23  readmit_binary            101766 non-null  int64 \n",
      " 24  readmit_30_days           101766 non-null  int64 \n",
      "dtypes: bool(5), int64(7), object(13)\n",
      "memory usage: 16.0+ MB\n"
     ]
    },
    {
     "data": {
      "text/plain": [
       "None"
      ]
     },
     "metadata": {},
     "output_type": "display_data"
    },
    {
     "name": "stdout",
     "output_type": "stream",
     "text": [
      "Assigning category-based columns\n"
     ]
    }
   ],
   "source": [
    "%run -i process_health_data.py"
   ]
  },
  {
   "cell_type": "code",
   "execution_count": 3,
   "id": "42980a71",
   "metadata": {
    "slideshow": {
     "slide_type": "slide"
    }
   },
   "outputs": [
    {
     "data": {
      "image/png": "[encoded data removed]",
      "text/plain": [
       "<Figure size 432x288 with 1 Axes>"
      ]
     },
     "metadata": {
      "needs_background": "light"
     },
     "output_type": "display_data"
    }
   ],
   "source": [
    "df[\"race\"].value_counts(normalize=True).plot(kind='bar', rot=45);"
   ]
  },
  {
   "cell_type": "code",
   "execution_count": 4,
   "id": "da29b1fa",
   "metadata": {
    "slideshow": {
     "slide_type": "slide"
    }
   },
   "outputs": [
    {
     "data": {
      "image/png": "[encoded data removed]",
      "text/plain": [
       "<Figure size 1296x576 with 4 Axes>"
      ]
     },
     "metadata": {
      "needs_background": "light"
     },
     "output_type": "display_data"
    }
   ],
   "source": [
    "plot_pointplot(df, \"race\")"
   ]
  },
  {
   "cell_type": "markdown",
   "id": "30f21d2d",
   "metadata": {
    "slideshow": {
     "slide_type": "slide"
    }
   },
   "source": [
    "## Imbalance en las clasificaciones \n",
    "\n"
   ]
  },
  {
   "cell_type": "code",
   "execution_count": 6,
   "id": "b009ff2e",
   "metadata": {
    "slideshow": {
     "slide_type": "slide"
    }
   },
   "outputs": [
    {
     "data": {
      "image/png": "[encoded data removed]",
      "text/plain": [
       "<Figure size 432x288 with 1 Axes>"
      ]
     },
     "metadata": {
      "needs_background": "light"
     },
     "output_type": "display_data"
    }
   ],
   "source": [
    "# Now, let's examine how much the label frequencies vary within each group defined by `race`:\n",
    "\n",
    "sns.barplot(x=\"readmit_30_days\", y=\"race\", data=df, ci=95);"
   ]
  },
  {
   "cell_type": "markdown",
   "id": "99e320fb",
   "metadata": {
    "slideshow": {
     "slide_type": "slide"
    }
   },
   "source": [
    "## Preparar conjuntos de datos de prueba y entrenamiento \n",
    "\n"
   ]
  },
  {
   "cell_type": "code",
   "execution_count": 14,
   "id": "473b1f00",
   "metadata": {
    "slideshow": {
     "slide_type": "slide"
    }
   },
   "outputs": [],
   "source": [
    "[X_train, X_test, Y_train, Y_test, A_train, A_test, df_train, df_test, X] = train_model(df)"
   ]
  },
  {
   "cell_type": "markdown",
   "id": "e7e8ad63",
   "metadata": {
    "slideshow": {
     "slide_type": "slide"
    }
   },
   "source": [
    "Nuestra métrica de rendimiento es precisión equilibrada.\n"
   ]
  },
  {
   "cell_type": "code",
   "execution_count": 8,
   "id": "2c9386cf",
   "metadata": {
    "slideshow": {
     "slide_type": "slide"
    }
   },
   "outputs": [],
   "source": [
    "X_train_bal, Y_train_bal, A_train_bal = resample_dataset(X_train, Y_train, A_train)"
   ]
  },
  {
   "cell_type": "markdown",
   "id": "59ed0478",
   "metadata": {
    "slideshow": {
     "slide_type": "slide"
    }
   },
   "source": [
    "## Guardando las estadísticas descriptivas de los datos de entrenamiento y prueba.\n",
    "\n",
    "A continuación, evaluamos y guardamos estadísticas descriptivas del conjunto de datos de entrenamiento. Estos se proporcionarán como parte de tarjetas modelo para documentar nuestra capacitación."
   ]
  },
  {
   "cell_type": "code",
   "execution_count": 9,
   "id": "9e23f131",
   "metadata": {
    "slideshow": {
     "slide_type": "slide"
    }
   },
   "outputs": [
    {
     "data": {
      "text/plain": [
       "[None, None, None, None]"
      ]
     },
     "execution_count": 9,
     "metadata": {},
     "output_type": "execute_result"
    },
    {
     "data": {
      "image/png": "[encoded data removed]",
      "text/plain": [
       "<Figure size 1440x360 with 4 Axes>"
      ]
     },
     "metadata": {
      "needs_background": "light"
     },
     "output_type": "display_data"
    }
   ],
   "source": [
    "plot_descriptive_stats(A_train_bal, Y_train_bal, A_test, Y_test)"
   ]
  },
  {
   "cell_type": "markdown",
   "id": "e158bbec",
   "metadata": {
    "slideshow": {
     "slide_type": "slide"
    }
   },
   "source": [
    "## Entrenando el modelo\n",
    "\n",
    "Entrenamos un modelo de regresión logística y guardamos sus predicciones en datos de prueba para su análisis."
   ]
  },
  {
   "cell_type": "code",
   "execution_count": 10,
   "id": "72de2c08",
   "metadata": {
    "slideshow": {
     "slide_type": "slide"
    }
   },
   "outputs": [
    {
     "data": {
      "text/html": [
       "<style>#sk-2a14e9b6-b6e4-4638-b088-199534a792c6 {color: black;background-color: white;}#sk-2a14e9b6-b6e4-4638-b088-199534a792c6 pre{padding: 0;}#sk-2a14e9b6-b6e4-4638-b088-199534a792c6 div.sk-toggleable {background-color: white;}#sk-2a14e9b6-b6e4-4638-b088-199534a792c6 label.sk-toggleable__label {cursor: pointer;display: block;width: 100%;margin-bottom: 0;padding: 0.3em;box-sizing: border-box;text-align: center;}#sk-2a14e9b6-b6e4-4638-b088-199534a792c6 label.sk-toggleable__label-arrow:before {content: \"▸\";float: left;margin-right: 0.25em;color: #696969;}#sk-2a14e9b6-b6e4-4638-b088-199534a792c6 label.sk-toggleable__label-arrow:hover:before {color: black;}#sk-2a14e9b6-b6e4-4638-b088-199534a792c6 div.sk-estimator:hover label.sk-toggleable__label-arrow:before {color: black;}#sk-2a14e9b6-b6e4-4638-b088-199534a792c6 div.sk-toggleable__content {max-height: 0;max-width: 0;overflow: hidden;text-align: left;background-color: #f0f8ff;}#sk-2a14e9b6-b6e4-4638-b088-199534a792c6 div.sk-toggleable__content pre {margin: 0.2em;color: black;border-radius: 0.25em;background-color: #f0f8ff;}#sk-2a14e9b6-b6e4-4638-b088-199534a792c6 input.sk-toggleable__control:checked~div.sk-toggleable__content {max-height: 200px;max-width: 100%;overflow: auto;}#sk-2a14e9b6-b6e4-4638-b088-199534a792c6 input.sk-toggleable__control:checked~label.sk-toggleable__label-arrow:before {content: \"▾\";}#sk-2a14e9b6-b6e4-4638-b088-199534a792c6 div.sk-estimator input.sk-toggleable__control:checked~label.sk-toggleable__label {background-color: #d4ebff;}#sk-2a14e9b6-b6e4-4638-b088-199534a792c6 div.sk-label input.sk-toggleable__control:checked~label.sk-toggleable__label {background-color: #d4ebff;}#sk-2a14e9b6-b6e4-4638-b088-199534a792c6 input.sk-hidden--visually {border: 0;clip: rect(1px 1px 1px 1px);clip: rect(1px, 1px, 1px, 1px);height: 1px;margin: -1px;overflow: hidden;padding: 0;position: absolute;width: 1px;}#sk-2a14e9b6-b6e4-4638-b088-199534a792c6 div.sk-estimator {font-family: monospace;background-color: #f0f8ff;border: 1px dotted black;border-radius: 0.25em;box-sizing: border-box;margin-bottom: 0.5em;}#sk-2a14e9b6-b6e4-4638-b088-199534a792c6 div.sk-estimator:hover {background-color: #d4ebff;}#sk-2a14e9b6-b6e4-4638-b088-199534a792c6 div.sk-parallel-item::after {content: \"\";width: 100%;border-bottom: 1px solid gray;flex-grow: 1;}#sk-2a14e9b6-b6e4-4638-b088-199534a792c6 div.sk-label:hover label.sk-toggleable__label {background-color: #d4ebff;}#sk-2a14e9b6-b6e4-4638-b088-199534a792c6 div.sk-serial::before {content: \"\";position: absolute;border-left: 1px solid gray;box-sizing: border-box;top: 2em;bottom: 0;left: 50%;}#sk-2a14e9b6-b6e4-4638-b088-199534a792c6 div.sk-serial {display: flex;flex-direction: column;align-items: center;background-color: white;padding-right: 0.2em;padding-left: 0.2em;}#sk-2a14e9b6-b6e4-4638-b088-199534a792c6 div.sk-item {z-index: 1;}#sk-2a14e9b6-b6e4-4638-b088-199534a792c6 div.sk-parallel {display: flex;align-items: stretch;justify-content: center;background-color: white;}#sk-2a14e9b6-b6e4-4638-b088-199534a792c6 div.sk-parallel::before {content: \"\";position: absolute;border-left: 1px solid gray;box-sizing: border-box;top: 2em;bottom: 0;left: 50%;}#sk-2a14e9b6-b6e4-4638-b088-199534a792c6 div.sk-parallel-item {display: flex;flex-direction: column;position: relative;background-color: white;}#sk-2a14e9b6-b6e4-4638-b088-199534a792c6 div.sk-parallel-item:first-child::after {align-self: flex-end;width: 50%;}#sk-2a14e9b6-b6e4-4638-b088-199534a792c6 div.sk-parallel-item:last-child::after {align-self: flex-start;width: 50%;}#sk-2a14e9b6-b6e4-4638-b088-199534a792c6 div.sk-parallel-item:only-child::after {width: 0;}#sk-2a14e9b6-b6e4-4638-b088-199534a792c6 div.sk-dashed-wrapped {border: 1px dashed gray;margin: 0 0.4em 0.5em 0.4em;box-sizing: border-box;padding-bottom: 0.4em;background-color: white;position: relative;}#sk-2a14e9b6-b6e4-4638-b088-199534a792c6 div.sk-label label {font-family: monospace;font-weight: bold;background-color: white;display: inline-block;line-height: 1.2em;}#sk-2a14e9b6-b6e4-4638-b088-199534a792c6 div.sk-label-container {position: relative;z-index: 2;text-align: center;}#sk-2a14e9b6-b6e4-4638-b088-199534a792c6 div.sk-container {/* jupyter's `normalize.less` sets `[hidden] { display: none; }` but bootstrap.min.css set `[hidden] { display: none !important; }` so we also need the `!important` here to be able to override the default hidden behavior on the sphinx rendered scikit-learn.org. See: https://github.com/scikit-learn/scikit-learn/issues/21755 */display: inline-block !important;position: relative;}#sk-2a14e9b6-b6e4-4638-b088-199534a792c6 div.sk-text-repr-fallback {display: none;}</style><div id=\"sk-2a14e9b6-b6e4-4638-b088-199534a792c6\" class=\"sk-top-container\"><div class=\"sk-text-repr-fallback\"><pre>Pipeline(steps=[(&#x27;preprocessing&#x27;, StandardScaler()),\n",
       "                (&#x27;logistic_regression&#x27;, LogisticRegression(max_iter=1000))])</pre><b>Please rerun this cell to show the HTML repr or trust the notebook.</b></div><div class=\"sk-container\" hidden><div class=\"sk-item sk-dashed-wrapped\"><div class=\"sk-label-container\"><div class=\"sk-label sk-toggleable\"><input class=\"sk-toggleable__control sk-hidden--visually\" id=\"b3c8f66a-c843-451b-b64e-a84ebc2b7546\" type=\"checkbox\" ><label for=\"b3c8f66a-c843-451b-b64e-a84ebc2b7546\" class=\"sk-toggleable__label sk-toggleable__label-arrow\">Pipeline</label><div class=\"sk-toggleable__content\"><pre>Pipeline(steps=[(&#x27;preprocessing&#x27;, StandardScaler()),\n",
       "                (&#x27;logistic_regression&#x27;, LogisticRegression(max_iter=1000))])</pre></div></div></div><div class=\"sk-serial\"><div class=\"sk-item\"><div class=\"sk-estimator sk-toggleable\"><input class=\"sk-toggleable__control sk-hidden--visually\" id=\"00e4ba21-15bf-4fe6-a9e9-ce5a84447b60\" type=\"checkbox\" ><label for=\"00e4ba21-15bf-4fe6-a9e9-ce5a84447b60\" class=\"sk-toggleable__label sk-toggleable__label-arrow\">StandardScaler</label><div class=\"sk-toggleable__content\"><pre>StandardScaler()</pre></div></div></div><div class=\"sk-item\"><div class=\"sk-estimator sk-toggleable\"><input class=\"sk-toggleable__control sk-hidden--visually\" id=\"e38178b8-2aba-4f78-ae58-59ad9f8205d9\" type=\"checkbox\" ><label for=\"e38178b8-2aba-4f78-ae58-59ad9f8205d9\" class=\"sk-toggleable__label sk-toggleable__label-arrow\">LogisticRegression</label><div class=\"sk-toggleable__content\"><pre>LogisticRegression(max_iter=1000)</pre></div></div></div></div></div></div></div>"
      ],
      "text/plain": [
       "Pipeline(steps=[('preprocessing', StandardScaler()),\n",
       "                ('logistic_regression', LogisticRegression(max_iter=1000))])"
      ]
     },
     "execution_count": 10,
     "metadata": {},
     "output_type": "execute_result"
    }
   ],
   "source": [
    "# Set up pipeline\n",
    "unmitigated_pipeline = Pipeline(steps=[\n",
    "    (\"preprocessing\", StandardScaler()),\n",
    "    (\"logistic_regression\", LogisticRegression(max_iter=1000))\n",
    "])\n",
    "\n",
    "# Fit data\n",
    "unmitigated_pipeline.fit(X_train_bal, Y_train_bal)"
   ]
  },
  {
   "cell_type": "code",
   "execution_count": 11,
   "id": "ead1fdd8",
   "metadata": {
    "slideshow": {
     "slide_type": "slide"
    }
   },
   "outputs": [],
   "source": [
    "# Predict\n",
    "\n",
    "Y_pred_proba = unmitigated_pipeline.predict_proba(X_test)[:,1]\n",
    "Y_pred = unmitigated_pipeline.predict(X_test)"
   ]
  },
  {
   "cell_type": "code",
   "execution_count": 12,
   "id": "939891c3",
   "metadata": {
    "slideshow": {
     "slide_type": "slide"
    }
   },
   "outputs": [
    {
     "name": "stderr",
     "output_type": "stream",
     "text": [
      "C:\\Users\\lfunderburk\\Anaconda3\\envs\\venv\\lib\\site-packages\\sklearn\\utils\\deprecation.py:87: FutureWarning: Function plot_roc_curve is deprecated; Function :func:`plot_roc_curve` is deprecated in 1.0 and will be removed in 1.2. Use one of the class methods: :meth:`sklearn.metric.RocCurveDisplay.from_predictions` or :meth:`sklearn.metric.RocCurveDisplay.from_estimator`.\n",
      "  warnings.warn(msg, category=FutureWarning)\n"
     ]
    },
    {
     "data": {
      "image/png": "[encoded data removed]",
      "text/plain": [
       "<Figure size 432x288 with 1 Axes>"
      ]
     },
     "metadata": {
      "needs_background": "light"
     },
     "output_type": "display_data"
    }
   ],
   "source": [
    "# Plot ROC curve of probabilistic predictions\n",
    "plot_roc_curve(unmitigated_pipeline, X_test, Y_test);"
   ]
  },
  {
   "cell_type": "code",
   "execution_count": 17,
   "id": "b4990be4",
   "metadata": {
    "slideshow": {
     "slide_type": "slide"
    }
   },
   "outputs": [
    {
     "data": {
      "text/plain": [
       "0.5902921897575506"
      ]
     },
     "execution_count": 17,
     "metadata": {},
     "output_type": "execute_result"
    }
   ],
   "source": [
    "# Show balanced accuracy rate of the 0/1 predictions\n",
    "balanced_accuracy_score(Y_test, Y_pred)"
   ]
  },
  {
   "cell_type": "markdown",
   "id": "5b671a01",
   "metadata": {
    "slideshow": {
     "slide_type": "slide"
    }
   },
   "source": [
    "Como vemos, el rendimiento del modelo está muy por encima del rendimiento de un lanzamiento de moneda (cuyo rendimiento sería de 0,5 en ambos casos), aunque está bastante lejos de un clasificador perfecto (cuyo rendimiento sería de 1,0 en ambos casos).\n"
   ]
  },
  {
   "cell_type": "markdown",
   "id": "aadf6012",
   "metadata": {
    "slideshow": {
     "slide_type": "slide"
    }
   },
   "source": [
    "## Inspeccionar los coeficientes del modelo entrenado\n",
    "\n",
    "Comprobamos los coeficientes del modelo ajustado para asegurarnos de que \"tienen sentido\". Si bien es subjetivo, este paso es importante y ayuda a detectar errores y puede señalar algunos problemas de equidad. Sin embargo, evaluaremos sistemáticamente la equidad del modelo en la siguiente sección.\n",
    "\n",
    "Los coeficientes representan las probabilidades logarítmicas del modelo. Duplicar una variable categórica, o aumentar una variable continua por una desviación estándar, duplica las probabilidades de que el clasificador vaya hacia el caso “1”. Esta es una verdadera medida estadística (según el modelo)."
   ]
  },
  {
   "cell_type": "code",
   "execution_count": 18,
   "id": "bb4bd1ab",
   "metadata": {
    "slideshow": {
     "slide_type": "slide"
    }
   },
   "outputs": [
    {
     "data": {
      "image/png": "[encoded data removed]",
      "text/plain": [
       "<Figure size 288x864 with 1 Axes>"
      ]
     },
     "metadata": {
      "needs_background": "light"
     },
     "output_type": "display_data"
    }
   ],
   "source": [
    "coef_series = pd.Series(data=unmitigated_pipeline.named_steps[\"logistic_regression\"].coef_[0], index=X.columns)\n",
    "coef_series.sort_values().plot.barh(figsize=(4, 12), legend=False);"
   ]
  },
  {
   "cell_type": "markdown",
   "id": "35680e89",
   "metadata": {
    "slideshow": {
     "slide_type": "slide"
    }
   },
   "source": [
    "## Evaluación de equidad con MetricFrame\n",
    "\n",
    "Fairlearn proporciona la estructura de datos denominada MetricFrame para permitir la evaluación de métricas desagregadas. Mostraremos cómo usar un objeto MetricFrame para evaluar el clasificador entrenado LogisticRegression en busca de posibles daños relacionados con la equidad.\n"
   ]
  },
  {
   "cell_type": "code",
   "execution_count": 15,
   "id": "e6f9fa27",
   "metadata": {
    "slideshow": {
     "slide_type": "slide"
    }
   },
   "outputs": [
    {
     "data": {
      "text/html": [
       "<div>\n",
       "<style scoped>\n",
       "    .dataframe tbody tr th:only-of-type {\n",
       "        vertical-align: middle;\n",
       "    }\n",
       "\n",
       "    .dataframe tbody tr th {\n",
       "        vertical-align: top;\n",
       "    }\n",
       "\n",
       "    .dataframe thead th {\n",
       "        text-align: right;\n",
       "    }\n",
       "</style>\n",
       "<table border=\"1\" class=\"dataframe\">\n",
       "  <thead>\n",
       "    <tr style=\"text-align: right;\">\n",
       "      <th></th>\n",
       "      <th>selection_rate</th>\n",
       "      <th>false_negative_rate</th>\n",
       "      <th>balanced_accuracy</th>\n",
       "    </tr>\n",
       "    <tr>\n",
       "      <th>race</th>\n",
       "      <th></th>\n",
       "      <th></th>\n",
       "      <th></th>\n",
       "    </tr>\n",
       "  </thead>\n",
       "  <tbody>\n",
       "    <tr>\n",
       "      <th>AfricanAmerican</th>\n",
       "      <td>0.394846</td>\n",
       "      <td>0.440972</td>\n",
       "      <td>0.593253</td>\n",
       "    </tr>\n",
       "    <tr>\n",
       "      <th>Asian</th>\n",
       "      <td>0.29375</td>\n",
       "      <td>0.533333</td>\n",
       "      <td>0.595402</td>\n",
       "    </tr>\n",
       "    <tr>\n",
       "      <th>Caucasian</th>\n",
       "      <td>0.39911</td>\n",
       "      <td>0.441463</td>\n",
       "      <td>0.589649</td>\n",
       "    </tr>\n",
       "    <tr>\n",
       "      <th>Hispanic</th>\n",
       "      <td>0.343225</td>\n",
       "      <td>0.440367</td>\n",
       "      <td>0.62128</td>\n",
       "    </tr>\n",
       "    <tr>\n",
       "      <th>Other</th>\n",
       "      <td>0.300518</td>\n",
       "      <td>0.614458</td>\n",
       "      <td>0.547633</td>\n",
       "    </tr>\n",
       "    <tr>\n",
       "      <th>Unknown</th>\n",
       "      <td>0.24849</td>\n",
       "      <td>0.659574</td>\n",
       "      <td>0.550025</td>\n",
       "    </tr>\n",
       "  </tbody>\n",
       "</table>\n",
       "</div>"
      ],
      "text/plain": [
       "                selection_rate false_negative_rate balanced_accuracy\n",
       "race                                                                \n",
       "AfricanAmerican       0.394846            0.440972          0.593253\n",
       "Asian                  0.29375            0.533333          0.595402\n",
       "Caucasian              0.39911            0.441463          0.589649\n",
       "Hispanic              0.343225            0.440367           0.62128\n",
       "Other                 0.300518            0.614458          0.547633\n",
       "Unknown                0.24849            0.659574          0.550025"
      ]
     },
     "execution_count": 15,
     "metadata": {},
     "output_type": "execute_result"
    }
   ],
   "source": [
    "# You can also evaluate multiple metrics by providing a dictionary\n",
    "\n",
    "metrics_dict = {\n",
    "    \"selection_rate\": selection_rate,\n",
    "    \"false_negative_rate\": false_negative_rate,\n",
    "    \"balanced_accuracy\": balanced_accuracy_score,\n",
    "}\n",
    "\n",
    "metricframe_unmitigated = MetricFrame(metrics=metrics_dict,\n",
    "                  y_true=Y_test,\n",
    "                  y_pred=Y_pred,\n",
    "                  sensitive_features=df_test['race'])\n",
    "\n",
    "# The disaggregated metrics are then stored in a pandas DataFrame:\n",
    "\n",
    "metricframe_unmitigated.by_group"
   ]
  },
  {
   "cell_type": "code",
   "execution_count": 16,
   "id": "4733f4ed",
   "metadata": {
    "slideshow": {
     "slide_type": "slide"
    }
   },
   "outputs": [
    {
     "data": {
      "text/plain": [
       "selection_rate          0.15062\n",
       "false_negative_rate    0.219207\n",
       "balanced_accuracy      0.073647\n",
       "dtype: object"
      ]
     },
     "execution_count": 16,
     "metadata": {},
     "output_type": "execute_result"
    }
   ],
   "source": [
    "# The largest difference, smallest ratio, and the maximum and minimum values\n",
    "# across the groups are then all pandas Series, for example:\n",
    "\n",
    "metricframe_unmitigated.difference()"
   ]
  },
  {
   "cell_type": "code",
   "execution_count": 17,
   "id": "bab2fd8f",
   "metadata": {
    "slideshow": {
     "slide_type": "slide"
    }
   },
   "outputs": [
    {
     "data": {
      "text/html": [
       "<div>\n",
       "<style scoped>\n",
       "    .dataframe tbody tr th:only-of-type {\n",
       "        vertical-align: middle;\n",
       "    }\n",
       "\n",
       "    .dataframe tbody tr th {\n",
       "        vertical-align: top;\n",
       "    }\n",
       "\n",
       "    .dataframe thead th {\n",
       "        text-align: right;\n",
       "    }\n",
       "</style>\n",
       "<table border=\"1\" class=\"dataframe\">\n",
       "  <thead>\n",
       "    <tr style=\"text-align: right;\">\n",
       "      <th></th>\n",
       "      <th>selection_rate</th>\n",
       "      <th>false_negative_rate</th>\n",
       "      <th>balanced_accuracy</th>\n",
       "    </tr>\n",
       "  </thead>\n",
       "  <tbody>\n",
       "    <tr>\n",
       "      <th>difference</th>\n",
       "      <td>0.15062</td>\n",
       "      <td>0.219207</td>\n",
       "      <td>0.073647</td>\n",
       "    </tr>\n",
       "    <tr>\n",
       "      <th>ratio</th>\n",
       "      <td>0.62261</td>\n",
       "      <td>0.667653</td>\n",
       "      <td>0.88146</td>\n",
       "    </tr>\n",
       "    <tr>\n",
       "      <th>group_min</th>\n",
       "      <td>0.24849</td>\n",
       "      <td>0.440367</td>\n",
       "      <td>0.547633</td>\n",
       "    </tr>\n",
       "    <tr>\n",
       "      <th>group_max</th>\n",
       "      <td>0.39911</td>\n",
       "      <td>0.659574</td>\n",
       "      <td>0.62128</td>\n",
       "    </tr>\n",
       "  </tbody>\n",
       "</table>\n",
       "</div>"
      ],
      "text/plain": [
       "           selection_rate false_negative_rate balanced_accuracy\n",
       "difference        0.15062            0.219207          0.073647\n",
       "ratio             0.62261            0.667653           0.88146\n",
       "group_min         0.24849            0.440367          0.547633\n",
       "group_max         0.39911            0.659574           0.62128"
      ]
     },
     "execution_count": 17,
     "metadata": {},
     "output_type": "execute_result"
    }
   ],
   "source": [
    "# You'll probably want to view them transposed:\n",
    "pd.DataFrame({'difference': metricframe_unmitigated.difference(),\n",
    "              'ratio': metricframe_unmitigated.ratio(),\n",
    "              'group_min': metricframe_unmitigated.group_min(),\n",
    "              'group_max': metricframe_unmitigated.group_max()}).T"
   ]
  },
  {
   "cell_type": "code",
   "execution_count": 18,
   "id": "6e52caea",
   "metadata": {
    "slideshow": {
     "slide_type": "slide"
    }
   },
   "outputs": [
    {
     "data": {
      "image/png": "[encoded data removed]",
      "text/plain": [
       "<Figure size 864x288 with 3 Axes>"
      ]
     },
     "metadata": {
      "needs_background": "light"
     },
     "output_type": "display_data"
    }
   ],
   "source": [
    "# You can also easily plot all of the metrics using DataFrame plotting capabilities\n",
    "\n",
    "metricframe_unmitigated.by_group.plot.bar(subplots=True, layout= [1,3], figsize=(12, 4),\n",
    "                      legend=False, rot=-45, position=1.5);"
   ]
  },
  {
   "cell_type": "markdown",
   "id": "d952d494",
   "metadata": {
    "slideshow": {
     "slide_type": "slide"
    }
   },
   "source": [
    "<h2 align='center'>Postprocesamiento con ThresholdOptimizer</h2>\n"
   ]
  },
  {
   "cell_type": "markdown",
   "id": "99f3ba06",
   "metadata": {
    "slideshow": {
     "slide_type": "subslide"
    }
   },
   "source": [
    "Aquí utilizamos el algoritmo ThresholdOptimizer de Fairlearn, que sigue el enfoque de Hardt, Price y Srebro (2016).\n",
    "\n",
    "ThresholdOptimizer toma un modelo de aprendizaje automático existente (posiblemente pre-ajustado) cuyas predicciones actúan como una función de puntuación e identifica un umbral separado para cada grupo con el fin de optimizar alguna métrica objetiva especificada (como la precisión equilibrada) sujeta a restricciones de equidad especificadas (como como paridad de tipos de falsos negativos). "
   ]
  },
  {
   "cell_type": "markdown",
   "id": "52305ca4",
   "metadata": {
    "slideshow": {
     "slide_type": "slide"
    }
   },
   "source": [
    "Para instalar nuestro `ThresholdOptimizer`, pasamos:\n",
    "\n",
    "* Un \"estimador\" existente que deseamos establecer como umbral.\n",
    "* Las \"limitaciones\" de equidad que queremos satisfacer.\n",
    "* La métrica del \"objetivo\" que queremos maximizar."
   ]
  },
  {
   "cell_type": "code",
   "execution_count": 19,
   "id": "10263d26",
   "metadata": {
    "slideshow": {
     "slide_type": "slide"
    }
   },
   "outputs": [],
   "source": [
    "# Now we instantite ThresholdOptimizer with the logistic regression estimator\n",
    "postprocess_est = ThresholdOptimizer(\n",
    "    estimator=unmitigated_pipeline,\n",
    "    constraints=\"false_negative_rate_parity\",\n",
    "    objective=\"balanced_accuracy_score\",\n",
    "    prefit=True,\n",
    "    predict_method='predict_proba'\n",
    ")"
   ]
  },
  {
   "cell_type": "markdown",
   "id": "9e8fedd2",
   "metadata": {
    "slideshow": {
     "slide_type": "slide"
    }
   },
   "source": [
    "Para usar el `ThresholdOptimizer`, necesitamos acceso a las funciones sensibles ** tanto durante el tiempo de entrenamiento como una vez implementado **."
   ]
  },
  {
   "cell_type": "code",
   "execution_count": 20,
   "id": "bd7295cf",
   "metadata": {
    "slideshow": {
     "slide_type": "slide"
    }
   },
   "outputs": [
    {
     "data": {
      "text/html": [
       "<style>#sk-0f9f8024-b2df-4849-b0a2-0d4e986c0111 {color: black;background-color: white;}#sk-0f9f8024-b2df-4849-b0a2-0d4e986c0111 pre{padding: 0;}#sk-0f9f8024-b2df-4849-b0a2-0d4e986c0111 div.sk-toggleable {background-color: white;}#sk-0f9f8024-b2df-4849-b0a2-0d4e986c0111 label.sk-toggleable__label {cursor: pointer;display: block;width: 100%;margin-bottom: 0;padding: 0.3em;box-sizing: border-box;text-align: center;}#sk-0f9f8024-b2df-4849-b0a2-0d4e986c0111 label.sk-toggleable__label-arrow:before {content: \"▸\";float: left;margin-right: 0.25em;color: #696969;}#sk-0f9f8024-b2df-4849-b0a2-0d4e986c0111 label.sk-toggleable__label-arrow:hover:before {color: black;}#sk-0f9f8024-b2df-4849-b0a2-0d4e986c0111 div.sk-estimator:hover label.sk-toggleable__label-arrow:before {color: black;}#sk-0f9f8024-b2df-4849-b0a2-0d4e986c0111 div.sk-toggleable__content {max-height: 0;max-width: 0;overflow: hidden;text-align: left;background-color: #f0f8ff;}#sk-0f9f8024-b2df-4849-b0a2-0d4e986c0111 div.sk-toggleable__content pre {margin: 0.2em;color: black;border-radius: 0.25em;background-color: #f0f8ff;}#sk-0f9f8024-b2df-4849-b0a2-0d4e986c0111 input.sk-toggleable__control:checked~div.sk-toggleable__content {max-height: 200px;max-width: 100%;overflow: auto;}#sk-0f9f8024-b2df-4849-b0a2-0d4e986c0111 input.sk-toggleable__control:checked~label.sk-toggleable__label-arrow:before {content: \"▾\";}#sk-0f9f8024-b2df-4849-b0a2-0d4e986c0111 div.sk-estimator input.sk-toggleable__control:checked~label.sk-toggleable__label {background-color: #d4ebff;}#sk-0f9f8024-b2df-4849-b0a2-0d4e986c0111 div.sk-label input.sk-toggleable__control:checked~label.sk-toggleable__label {background-color: #d4ebff;}#sk-0f9f8024-b2df-4849-b0a2-0d4e986c0111 input.sk-hidden--visually {border: 0;clip: rect(1px 1px 1px 1px);clip: rect(1px, 1px, 1px, 1px);height: 1px;margin: -1px;overflow: hidden;padding: 0;position: absolute;width: 1px;}#sk-0f9f8024-b2df-4849-b0a2-0d4e986c0111 div.sk-estimator {font-family: monospace;background-color: #f0f8ff;border: 1px dotted black;border-radius: 0.25em;box-sizing: border-box;margin-bottom: 0.5em;}#sk-0f9f8024-b2df-4849-b0a2-0d4e986c0111 div.sk-estimator:hover {background-color: #d4ebff;}#sk-0f9f8024-b2df-4849-b0a2-0d4e986c0111 div.sk-parallel-item::after {content: \"\";width: 100%;border-bottom: 1px solid gray;flex-grow: 1;}#sk-0f9f8024-b2df-4849-b0a2-0d4e986c0111 div.sk-label:hover label.sk-toggleable__label {background-color: #d4ebff;}#sk-0f9f8024-b2df-4849-b0a2-0d4e986c0111 div.sk-serial::before {content: \"\";position: absolute;border-left: 1px solid gray;box-sizing: border-box;top: 2em;bottom: 0;left: 50%;}#sk-0f9f8024-b2df-4849-b0a2-0d4e986c0111 div.sk-serial {display: flex;flex-direction: column;align-items: center;background-color: white;padding-right: 0.2em;padding-left: 0.2em;}#sk-0f9f8024-b2df-4849-b0a2-0d4e986c0111 div.sk-item {z-index: 1;}#sk-0f9f8024-b2df-4849-b0a2-0d4e986c0111 div.sk-parallel {display: flex;align-items: stretch;justify-content: center;background-color: white;}#sk-0f9f8024-b2df-4849-b0a2-0d4e986c0111 div.sk-parallel::before {content: \"\";position: absolute;border-left: 1px solid gray;box-sizing: border-box;top: 2em;bottom: 0;left: 50%;}#sk-0f9f8024-b2df-4849-b0a2-0d4e986c0111 div.sk-parallel-item {display: flex;flex-direction: column;position: relative;background-color: white;}#sk-0f9f8024-b2df-4849-b0a2-0d4e986c0111 div.sk-parallel-item:first-child::after {align-self: flex-end;width: 50%;}#sk-0f9f8024-b2df-4849-b0a2-0d4e986c0111 div.sk-parallel-item:last-child::after {align-self: flex-start;width: 50%;}#sk-0f9f8024-b2df-4849-b0a2-0d4e986c0111 div.sk-parallel-item:only-child::after {width: 0;}#sk-0f9f8024-b2df-4849-b0a2-0d4e986c0111 div.sk-dashed-wrapped {border: 1px dashed gray;margin: 0 0.4em 0.5em 0.4em;box-sizing: border-box;padding-bottom: 0.4em;background-color: white;position: relative;}#sk-0f9f8024-b2df-4849-b0a2-0d4e986c0111 div.sk-label label {font-family: monospace;font-weight: bold;background-color: white;display: inline-block;line-height: 1.2em;}#sk-0f9f8024-b2df-4849-b0a2-0d4e986c0111 div.sk-label-container {position: relative;z-index: 2;text-align: center;}#sk-0f9f8024-b2df-4849-b0a2-0d4e986c0111 div.sk-container {/* jupyter's `normalize.less` sets `[hidden] { display: none; }` but bootstrap.min.css set `[hidden] { display: none !important; }` so we also need the `!important` here to be able to override the default hidden behavior on the sphinx rendered scikit-learn.org. See: https://github.com/scikit-learn/scikit-learn/issues/21755 */display: inline-block !important;position: relative;}#sk-0f9f8024-b2df-4849-b0a2-0d4e986c0111 div.sk-text-repr-fallback {display: none;}</style><div id=\"sk-0f9f8024-b2df-4849-b0a2-0d4e986c0111\" class=\"sk-top-container\"><div class=\"sk-text-repr-fallback\"><pre>ThresholdOptimizer(constraints=&#x27;false_negative_rate_parity&#x27;,\n",
       "                   estimator=Pipeline(steps=[(&#x27;preprocessing&#x27;,\n",
       "                                              StandardScaler()),\n",
       "                                             (&#x27;logistic_regression&#x27;,\n",
       "                                              LogisticRegression(max_iter=1000))]),\n",
       "                   objective=&#x27;balanced_accuracy_score&#x27;,\n",
       "                   predict_method=&#x27;predict_proba&#x27;, prefit=True)</pre><b>Please rerun this cell to show the HTML repr or trust the notebook.</b></div><div class=\"sk-container\" hidden><div class=\"sk-item sk-dashed-wrapped\"><div class=\"sk-label-container\"><div class=\"sk-label sk-toggleable\"><input class=\"sk-toggleable__control sk-hidden--visually\" id=\"36dc2ebd-8dc5-4fdf-8bb8-8c7cabcda3c5\" type=\"checkbox\" ><label for=\"36dc2ebd-8dc5-4fdf-8bb8-8c7cabcda3c5\" class=\"sk-toggleable__label sk-toggleable__label-arrow\">ThresholdOptimizer</label><div class=\"sk-toggleable__content\"><pre>ThresholdOptimizer(constraints=&#x27;false_negative_rate_parity&#x27;,\n",
       "                   estimator=Pipeline(steps=[(&#x27;preprocessing&#x27;,\n",
       "                                              StandardScaler()),\n",
       "                                             (&#x27;logistic_regression&#x27;,\n",
       "                                              LogisticRegression(max_iter=1000))]),\n",
       "                   objective=&#x27;balanced_accuracy_score&#x27;,\n",
       "                   predict_method=&#x27;predict_proba&#x27;, prefit=True)</pre></div></div></div><div class=\"sk-parallel\"><div class=\"sk-parallel-item\"><div class=\"sk-item\"><div class=\"sk-serial\"><div class=\"sk-item\"><div class=\"sk-serial\"><div class=\"sk-item\"><div class=\"sk-estimator sk-toggleable\"><input class=\"sk-toggleable__control sk-hidden--visually\" id=\"339cc724-710f-4e8d-b5e5-0302be67c0c0\" type=\"checkbox\" ><label for=\"339cc724-710f-4e8d-b5e5-0302be67c0c0\" class=\"sk-toggleable__label sk-toggleable__label-arrow\">StandardScaler</label><div class=\"sk-toggleable__content\"><pre>StandardScaler()</pre></div></div></div><div class=\"sk-item\"><div class=\"sk-estimator sk-toggleable\"><input class=\"sk-toggleable__control sk-hidden--visually\" id=\"3917aebd-b048-4a1b-9c43-98e79c5acf12\" type=\"checkbox\" ><label for=\"3917aebd-b048-4a1b-9c43-98e79c5acf12\" class=\"sk-toggleable__label sk-toggleable__label-arrow\">LogisticRegression</label><div class=\"sk-toggleable__content\"><pre>LogisticRegression(max_iter=1000)</pre></div></div></div></div></div></div></div></div></div></div></div></div>"
      ],
      "text/plain": [
       "ThresholdOptimizer(constraints='false_negative_rate_parity',\n",
       "                   estimator=Pipeline(steps=[('preprocessing',\n",
       "                                              StandardScaler()),\n",
       "                                             ('logistic_regression',\n",
       "                                              LogisticRegression(max_iter=1000))]),\n",
       "                   objective='balanced_accuracy_score',\n",
       "                   predict_method='predict_proba', prefit=True)"
      ]
     },
     "execution_count": 20,
     "metadata": {},
     "output_type": "execute_result"
    }
   ],
   "source": [
    "postprocess_est.fit(X_train_bal, Y_train_bal, sensitive_features=A_train_bal)"
   ]
  },
  {
   "cell_type": "code",
   "execution_count": 21,
   "id": "d9dec0f3",
   "metadata": {
    "slideshow": {
     "slide_type": "slide"
    }
   },
   "outputs": [],
   "source": [
    "# Record and evaluate the output of the trained ThresholdOptimizer on test data\n",
    "\n",
    "Y_pred_postprocess = postprocess_est.predict(X_test, sensitive_features=A_test)\n",
    "metricframe_postprocess = MetricFrame(\n",
    "    metrics=metrics_dict,\n",
    "    y_true=Y_test,\n",
    "    y_pred=Y_pred_postprocess,\n",
    "    sensitive_features=A_test\n",
    ")"
   ]
  },
  {
   "cell_type": "code",
   "execution_count": 22,
   "id": "e127c66a",
   "metadata": {
    "slideshow": {
     "slide_type": "slide"
    }
   },
   "outputs": [
    {
     "data": {
      "text/html": [
       "<div>\n",
       "<style scoped>\n",
       "    .dataframe tbody tr th:only-of-type {\n",
       "        vertical-align: middle;\n",
       "    }\n",
       "\n",
       "    .dataframe tbody tr th {\n",
       "        vertical-align: top;\n",
       "    }\n",
       "\n",
       "    .dataframe thead tr th {\n",
       "        text-align: left;\n",
       "    }\n",
       "\n",
       "    .dataframe thead tr:last-of-type th {\n",
       "        text-align: right;\n",
       "    }\n",
       "</style>\n",
       "<table border=\"1\" class=\"dataframe\">\n",
       "  <thead>\n",
       "    <tr>\n",
       "      <th></th>\n",
       "      <th colspan=\"3\" halign=\"left\">Unmitigated</th>\n",
       "      <th colspan=\"3\" halign=\"left\">ThresholdOptimizer</th>\n",
       "    </tr>\n",
       "    <tr>\n",
       "      <th></th>\n",
       "      <th>selection_rate</th>\n",
       "      <th>false_negative_rate</th>\n",
       "      <th>balanced_accuracy</th>\n",
       "      <th>selection_rate</th>\n",
       "      <th>false_negative_rate</th>\n",
       "      <th>balanced_accuracy</th>\n",
       "    </tr>\n",
       "    <tr>\n",
       "      <th>race</th>\n",
       "      <th></th>\n",
       "      <th></th>\n",
       "      <th></th>\n",
       "      <th></th>\n",
       "      <th></th>\n",
       "      <th></th>\n",
       "    </tr>\n",
       "  </thead>\n",
       "  <tbody>\n",
       "    <tr>\n",
       "      <th>AfricanAmerican</th>\n",
       "      <td>0.394846</td>\n",
       "      <td>0.440972</td>\n",
       "      <td>0.593253</td>\n",
       "      <td>0.431629</td>\n",
       "      <td>0.405382</td>\n",
       "      <td>0.592576</td>\n",
       "    </tr>\n",
       "    <tr>\n",
       "      <th>Asian</th>\n",
       "      <td>0.29375</td>\n",
       "      <td>0.533333</td>\n",
       "      <td>0.595402</td>\n",
       "      <td>0.3875</td>\n",
       "      <td>0.4</td>\n",
       "      <td>0.617241</td>\n",
       "    </tr>\n",
       "    <tr>\n",
       "      <th>Caucasian</th>\n",
       "      <td>0.39911</td>\n",
       "      <td>0.441463</td>\n",
       "      <td>0.589649</td>\n",
       "      <td>0.453404</td>\n",
       "      <td>0.388269</td>\n",
       "      <td>0.58903</td>\n",
       "    </tr>\n",
       "    <tr>\n",
       "      <th>Hispanic</th>\n",
       "      <td>0.343225</td>\n",
       "      <td>0.440367</td>\n",
       "      <td>0.62128</td>\n",
       "      <td>0.41543</td>\n",
       "      <td>0.348624</td>\n",
       "      <td>0.632229</td>\n",
       "    </tr>\n",
       "    <tr>\n",
       "      <th>Other</th>\n",
       "      <td>0.300518</td>\n",
       "      <td>0.614458</td>\n",
       "      <td>0.547633</td>\n",
       "      <td>0.318653</td>\n",
       "      <td>0.614458</td>\n",
       "      <td>0.537474</td>\n",
       "    </tr>\n",
       "    <tr>\n",
       "      <th>Unknown</th>\n",
       "      <td>0.24849</td>\n",
       "      <td>0.659574</td>\n",
       "      <td>0.550025</td>\n",
       "      <td>0.467645</td>\n",
       "      <td>0.446809</td>\n",
       "      <td>0.546549</td>\n",
       "    </tr>\n",
       "  </tbody>\n",
       "</table>\n",
       "</div>"
      ],
      "text/plain": [
       "                   Unmitigated                                        \\\n",
       "                selection_rate false_negative_rate balanced_accuracy   \n",
       "race                                                                   \n",
       "AfricanAmerican       0.394846            0.440972          0.593253   \n",
       "Asian                  0.29375            0.533333          0.595402   \n",
       "Caucasian              0.39911            0.441463          0.589649   \n",
       "Hispanic              0.343225            0.440367           0.62128   \n",
       "Other                 0.300518            0.614458          0.547633   \n",
       "Unknown                0.24849            0.659574          0.550025   \n",
       "\n",
       "                ThresholdOptimizer                                        \n",
       "                    selection_rate false_negative_rate balanced_accuracy  \n",
       "race                                                                      \n",
       "AfricanAmerican           0.431629            0.405382          0.592576  \n",
       "Asian                       0.3875                 0.4          0.617241  \n",
       "Caucasian                 0.453404            0.388269           0.58903  \n",
       "Hispanic                   0.41543            0.348624          0.632229  \n",
       "Other                     0.318653            0.614458          0.537474  \n",
       "Unknown                   0.467645            0.446809          0.546549  "
      ]
     },
     "execution_count": 22,
     "metadata": {},
     "output_type": "execute_result"
    }
   ],
   "source": [
    "pd.concat([metricframe_unmitigated.by_group,\n",
    "           metricframe_postprocess.by_group],\n",
    "           keys=['Unmitigated', 'ThresholdOptimizer'],\n",
    "           axis=1)"
   ]
  },
  {
   "cell_type": "code",
   "execution_count": 23,
   "id": "3f9d59ba",
   "metadata": {
    "slideshow": {
     "slide_type": "slide"
    }
   },
   "outputs": [
    {
     "data": {
      "text/html": [
       "<div>\n",
       "<style scoped>\n",
       "    .dataframe tbody tr th:only-of-type {\n",
       "        vertical-align: middle;\n",
       "    }\n",
       "\n",
       "    .dataframe tbody tr th {\n",
       "        vertical-align: top;\n",
       "    }\n",
       "\n",
       "    .dataframe thead th {\n",
       "        text-align: right;\n",
       "    }\n",
       "</style>\n",
       "<table border=\"1\" class=\"dataframe\">\n",
       "  <thead>\n",
       "    <tr style=\"text-align: right;\">\n",
       "      <th></th>\n",
       "      <th>selection_rate</th>\n",
       "      <th>false_negative_rate</th>\n",
       "      <th>balanced_accuracy</th>\n",
       "    </tr>\n",
       "  </thead>\n",
       "  <tbody>\n",
       "    <tr>\n",
       "      <th>Unmitigated: difference</th>\n",
       "      <td>0.15062</td>\n",
       "      <td>0.219207</td>\n",
       "      <td>0.073647</td>\n",
       "    </tr>\n",
       "    <tr>\n",
       "      <th>ThresholdOptimizer: difference</th>\n",
       "      <td>0.148992</td>\n",
       "      <td>0.265834</td>\n",
       "      <td>0.094756</td>\n",
       "    </tr>\n",
       "  </tbody>\n",
       "</table>\n",
       "</div>"
      ],
      "text/plain": [
       "                               selection_rate false_negative_rate  \\\n",
       "Unmitigated: difference               0.15062            0.219207   \n",
       "ThresholdOptimizer: difference       0.148992            0.265834   \n",
       "\n",
       "                               balanced_accuracy  \n",
       "Unmitigated: difference                 0.073647  \n",
       "ThresholdOptimizer: difference          0.094756  "
      ]
     },
     "execution_count": 23,
     "metadata": {},
     "output_type": "execute_result"
    }
   ],
   "source": [
    "pd.concat([metricframe_unmitigated.difference(),\n",
    "           metricframe_postprocess.difference()],\n",
    "          keys=['Unmitigated: difference', 'ThresholdOptimizer: difference'],\n",
    "          axis=1).T"
   ]
  },
  {
   "cell_type": "code",
   "execution_count": 24,
   "id": "5dc6b80c",
   "metadata": {
    "slideshow": {
     "slide_type": "slide"
    }
   },
   "outputs": [
    {
     "data": {
      "image/png": "[encoded data removed]",
      "text/plain": [
       "<Figure size 864x288 with 3 Axes>"
      ]
     },
     "metadata": {
      "needs_background": "light"
     },
     "output_type": "display_data"
    }
   ],
   "source": [
    "metricframe_postprocess.by_group.plot.bar(subplots=True, layout=[1,3], figsize=(12, 4), legend=False, rot=-45, position=1.5)\n",
    "postprocess_performance = figure_to_base64str(plt)"
   ]
  },
  {
   "cell_type": "markdown",
   "id": "6f3567ce",
   "metadata": {
    "slideshow": {
     "slide_type": "slide"
    }
   },
   "source": [
    "<h2 align='center'>Observaciones finales</h2>\n",
    "\n",
    "\n",
    "En este taller motivamos la importancia de incorporar y evaluar métricas de equidad como parte de un problema que utiliza técnicas de aprendizaje automático.\n",
    "\n",
    "Cubrimos una descripción general de qué es la abstracción, cómo ocurren los daños en la abstracción y las diferentes trampas en las que podemos caer cuando nuestra abstracción no incorpora el contexto social.\n",
    "\n",
    "Aplicamos lo que aprendimos a un escenario que involucraba la inscripción de pacientes en un programa de administración de atención de alto riesgo. Exploramos la biblioteca Fairlearn Python para mejorar los resultados injustos hacia los pacientes cuya raza era desconocida."
   ]
  },
  {
   "cell_type": "markdown",
   "id": "314eae39",
   "metadata": {
    "slideshow": {
     "slide_type": "slide"
    }
   },
   "source": [
    "## Lecturas y ejercicios futuros:\n",
    "\n",
    "Puede obtener más información sobre Fairlearn https://fairlearn.org/v0.7.0/about/index.html y visitar su código fuente abierto https://github.com/fairlearn/fairlearn\n",
    "\n",
    "Fairlearn es un esfuerzo comunitario para mejorar la ética en IA.\n",
    "\n",
    "¿Tienes curiosidad por contribuir? Visite https://fairlearn.org/v0.7.0/contributor_guide/index.html"
   ]
  }
 ],
 "metadata": {
  "celltoolbar": "Slideshow",
  "kernelspec": {
   "display_name": "Python 3 (ipykernel)",
   "language": "python",
   "name": "python3"
  },
  "language_info": {
   "codemirror_mode": {
    "name": "ipython",
    "version": 3
   },
   "file_extension": ".py",
   "mimetype": "text/x-python",
   "name": "python",
   "nbconvert_exporter": "python",
   "pygments_lexer": "ipython3",
   "version": "3.8.12"
  },
  "rise": {
   "autolaunch": false,
   "backimage": "Cybera_contact.svg"
  }
 },
 "nbformat": 4,
 "nbformat_minor": 5
}
